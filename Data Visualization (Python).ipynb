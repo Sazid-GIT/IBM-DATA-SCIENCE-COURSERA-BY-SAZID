{
    "cells": [
        {
            "cell_type": "code",
            "execution_count": 1,
            "metadata": {},
            "outputs": [
                {
                    "data": {
                        "text/html": "<div>\n<style scoped>\n    .dataframe tbody tr th:only-of-type {\n        vertical-align: middle;\n    }\n\n    .dataframe tbody tr th {\n        vertical-align: top;\n    }\n\n    .dataframe thead th {\n        text-align: right;\n    }\n</style>\n<table border=\"1\" class=\"dataframe\">\n  <thead>\n    <tr style=\"text-align: right;\">\n      <th></th>\n      <th>Topics</th>\n      <th>Very Interested</th>\n      <th>Somewhat Interested</th>\n      <th>Not Interested</th>\n    </tr>\n  </thead>\n  <tbody>\n    <tr>\n      <th>0</th>\n      <td>Big Data (Spark / Hadoop)</td>\n      <td>1332</td>\n      <td>729</td>\n      <td>127</td>\n    </tr>\n    <tr>\n      <th>1</th>\n      <td>Data Analysis / Statistics</td>\n      <td>1688</td>\n      <td>444</td>\n      <td>60</td>\n    </tr>\n    <tr>\n      <th>2</th>\n      <td>Data Journalism</td>\n      <td>429</td>\n      <td>1081</td>\n      <td>610</td>\n    </tr>\n    <tr>\n      <th>3</th>\n      <td>Data Visualization</td>\n      <td>1340</td>\n      <td>734</td>\n      <td>102</td>\n    </tr>\n    <tr>\n      <th>4</th>\n      <td>Deep Learning</td>\n      <td>1263</td>\n      <td>770</td>\n      <td>136</td>\n    </tr>\n  </tbody>\n</table>\n</div>",
                        "text/plain": "                       Topics  Very Interested  Somewhat Interested  \\\n0   Big Data (Spark / Hadoop)             1332                  729   \n1  Data Analysis / Statistics             1688                  444   \n2             Data Journalism              429                 1081   \n3          Data Visualization             1340                  734   \n4               Deep Learning             1263                  770   \n\n   Not Interested  \n0             127  \n1              60  \n2             610  \n3             102  \n4             136  "
                    },
                    "execution_count": 1,
                    "metadata": {},
                    "output_type": "execute_result"
                }
            ],
            "source": "import pandas as pd\ndf=pd.read_csv('https://cocl.us/datascience_survey_data')\ndf.head()\ndf.columns = ['Topics','Very Interested','Somewhat Interested','Not Interested']\ndf.head()"
        },
        {
            "cell_type": "code",
            "execution_count": 2,
            "metadata": {},
            "outputs": [
                {
                    "data": {
                        "text/html": "<div>\n<style scoped>\n    .dataframe tbody tr th:only-of-type {\n        vertical-align: middle;\n    }\n\n    .dataframe tbody tr th {\n        vertical-align: top;\n    }\n\n    .dataframe thead th {\n        text-align: right;\n    }\n</style>\n<table border=\"1\" class=\"dataframe\">\n  <thead>\n    <tr style=\"text-align: right;\">\n      <th></th>\n      <th>Topics</th>\n      <th>Very Interested</th>\n      <th>Somewhat Interested</th>\n      <th>Not Interested</th>\n    </tr>\n  </thead>\n  <tbody>\n    <tr>\n      <th>1</th>\n      <td>Data Analysis / Statistics</td>\n      <td>1688</td>\n      <td>444</td>\n      <td>60</td>\n    </tr>\n    <tr>\n      <th>5</th>\n      <td>Machine Learning</td>\n      <td>1629</td>\n      <td>477</td>\n      <td>74</td>\n    </tr>\n    <tr>\n      <th>3</th>\n      <td>Data Visualization</td>\n      <td>1340</td>\n      <td>734</td>\n      <td>102</td>\n    </tr>\n    <tr>\n      <th>0</th>\n      <td>Big Data (Spark / Hadoop)</td>\n      <td>1332</td>\n      <td>729</td>\n      <td>127</td>\n    </tr>\n    <tr>\n      <th>4</th>\n      <td>Deep Learning</td>\n      <td>1263</td>\n      <td>770</td>\n      <td>136</td>\n    </tr>\n  </tbody>\n</table>\n</div>",
                        "text/plain": "                       Topics  Very Interested  Somewhat Interested  \\\n1  Data Analysis / Statistics             1688                  444   \n5            Machine Learning             1629                  477   \n3          Data Visualization             1340                  734   \n0   Big Data (Spark / Hadoop)             1332                  729   \n4               Deep Learning             1263                  770   \n\n   Not Interested  \n1              60  \n5              74  \n3             102  \n0             127  \n4             136  "
                    },
                    "execution_count": 2,
                    "metadata": {},
                    "output_type": "execute_result"
                }
            ],
            "source": "import pandas as pd\n\ndfsorted=df.sort_values(['Very Interested'], ascending=[False])\ndfsorted.head()"
        },
        {
            "cell_type": "code",
            "execution_count": 3,
            "metadata": {},
            "outputs": [
                {
                    "data": {
                        "text/html": "<div>\n<style scoped>\n    .dataframe tbody tr th:only-of-type {\n        vertical-align: middle;\n    }\n\n    .dataframe tbody tr th {\n        vertical-align: top;\n    }\n\n    .dataframe thead th {\n        text-align: right;\n    }\n</style>\n<table border=\"1\" class=\"dataframe\">\n  <thead>\n    <tr style=\"text-align: right;\">\n      <th></th>\n      <th>Topics</th>\n      <th>Very Interested</th>\n      <th>Somewhat Interested</th>\n      <th>Not Interested</th>\n    </tr>\n  </thead>\n  <tbody>\n    <tr>\n      <th>1</th>\n      <td>Data Analysis / Statistics</td>\n      <td>75.59</td>\n      <td>19.88</td>\n      <td>2.69</td>\n    </tr>\n    <tr>\n      <th>5</th>\n      <td>Machine Learning</td>\n      <td>72.95</td>\n      <td>21.36</td>\n      <td>3.31</td>\n    </tr>\n    <tr>\n      <th>3</th>\n      <td>Data Visualization</td>\n      <td>60.01</td>\n      <td>32.87</td>\n      <td>4.57</td>\n    </tr>\n    <tr>\n      <th>0</th>\n      <td>Big Data (Spark / Hadoop)</td>\n      <td>59.65</td>\n      <td>32.65</td>\n      <td>5.69</td>\n    </tr>\n    <tr>\n      <th>4</th>\n      <td>Deep Learning</td>\n      <td>56.56</td>\n      <td>34.48</td>\n      <td>6.09</td>\n    </tr>\n    <tr>\n      <th>2</th>\n      <td>Data Journalism</td>\n      <td>19.21</td>\n      <td>48.41</td>\n      <td>27.32</td>\n    </tr>\n  </tbody>\n</table>\n</div>",
                        "text/plain": "                       Topics  Very Interested  Somewhat Interested  \\\n1  Data Analysis / Statistics            75.59                19.88   \n5            Machine Learning            72.95                21.36   \n3          Data Visualization            60.01                32.87   \n0   Big Data (Spark / Hadoop)            59.65                32.65   \n4               Deep Learning            56.56                34.48   \n2             Data Journalism            19.21                48.41   \n\n   Not Interested  \n1            2.69  \n5            3.31  \n3            4.57  \n0            5.69  \n4            6.09  \n2           27.32  "
                    },
                    "execution_count": 3,
                    "metadata": {},
                    "output_type": "execute_result"
                }
            ],
            "source": "dfsorted['Very Interested']=round((dfsorted['Very Interested'] / 2233)*100,2)\ndfsorted['Somewhat Interested']=round((dfsorted['Somewhat Interested'] / 2233)*100,2)\ndfsorted['Not Interested']=round((dfsorted['Not Interested'] / 2233)*100,2)\ndfsorted"
        },
        {
            "cell_type": "code",
            "execution_count": null,
            "metadata": {},
            "outputs": [],
            "source": "# First import Matplotlib\n\n%matplotlib inline \n\nimport matplotlib as mpl\nimport matplotlib.pyplot as plt\nprint ('Matplotlib version: ', mpl.__version__)"
        },
        {
            "cell_type": "code",
            "execution_count": null,
            "metadata": {},
            "outputs": [],
            "source": "# Sort the dataframe in descending order of Very interested.\ndf.sort_values(['Very interested'], ascending=False, axis=0, inplace=True)\n\n# Plot the data\n# Ok use a figure size of (20, 8),\n# Ok bar width of 0.8,\n# Ok use color #5cb85c for the Very interested bars,\n# Ok color #5bc0de for the Somewhat interested bars, \n# Ok and color #d9534f for the Not interested bars,\n# Ok use font size 14 for the bar labels, percentages, and legend,\n# Ok use font size 16 for the title, and,\n# display the percentages above the bars as shown above, and remove the left, top, and right borders.\nax = df.plot(kind='bar', figsize=(20, 8), width=0.8, color=['#5cb85c', '#5bc0de', '#d9534f'], fontsize=14)\nax.set_title(\"Percentage of Respondents' Interest in Data Science Areas\", size=16) \nax.spines['left'].set_visible(False)\nax.spines['top'].set_visible(False)\nax.spines['right'].set_visible(False)\nax.yaxis.set_major_locator(plt.NullLocator())\n\n# Convert the numbers into percentages of the total number of respondents. \n# Recall that 2,233 respondents completed the survey. Round percentages to 2 decimal places.\nfor p in ax.patches:\n    width, height = p.get_width(), p.get_height()\n    x, y = p.get_xy()\n    ax.annotate('{:.2%}'.format(height/2233), (x, y + height + 0.01), size=14)\nax.legend(fontsize=14)\n\nplt.show()"
        },
        {
            "cell_type": "code",
            "execution_count": 12,
            "metadata": {},
            "outputs": [
                {
                    "name": "stdout",
                    "output_type": "stream",
                    "text": "Dataset downloaded and read into a pandas dataframe!\n"
                }
            ],
            "source": "# Read the csv file and convert to dataframe\ndf_incidents = pd.read_csv('https://cocl.us/sanfran_crime_dataset')\n\nprint('Dataset downloaded and read into a pandas dataframe!')"
        },
        {
            "cell_type": "code",
            "execution_count": 13,
            "metadata": {},
            "outputs": [
                {
                    "data": {
                        "text/plain": "(150500, 13)"
                    },
                    "execution_count": 13,
                    "metadata": {},
                    "output_type": "execute_result"
                }
            ],
            "source": "df_incidents.shape"
        },
        {
            "cell_type": "code",
            "execution_count": 14,
            "metadata": {},
            "outputs": [
                {
                    "data": {
                        "text/html": "<div>\n<style scoped>\n    .dataframe tbody tr th:only-of-type {\n        vertical-align: middle;\n    }\n\n    .dataframe tbody tr th {\n        vertical-align: top;\n    }\n\n    .dataframe thead th {\n        text-align: right;\n    }\n</style>\n<table border=\"1\" class=\"dataframe\">\n  <thead>\n    <tr style=\"text-align: right;\">\n      <th></th>\n      <th>IncidntNum</th>\n      <th>Category</th>\n      <th>Descript</th>\n      <th>DayOfWeek</th>\n      <th>Date</th>\n      <th>Time</th>\n      <th>PdDistrict</th>\n      <th>Resolution</th>\n      <th>Address</th>\n      <th>X</th>\n      <th>Y</th>\n      <th>Location</th>\n      <th>PdId</th>\n    </tr>\n  </thead>\n  <tbody>\n    <tr>\n      <th>0</th>\n      <td>120058272</td>\n      <td>WEAPON LAWS</td>\n      <td>POSS OF PROHIBITED WEAPON</td>\n      <td>Friday</td>\n      <td>01/29/2016 12:00:00 AM</td>\n      <td>11:00</td>\n      <td>SOUTHERN</td>\n      <td>ARREST, BOOKED</td>\n      <td>800 Block of BRYANT ST</td>\n      <td>-122.403405</td>\n      <td>37.775421</td>\n      <td>(37.775420706711, -122.403404791479)</td>\n      <td>12005827212120</td>\n    </tr>\n    <tr>\n      <th>1</th>\n      <td>120058272</td>\n      <td>WEAPON LAWS</td>\n      <td>FIREARM, LOADED, IN VEHICLE, POSSESSION OR USE</td>\n      <td>Friday</td>\n      <td>01/29/2016 12:00:00 AM</td>\n      <td>11:00</td>\n      <td>SOUTHERN</td>\n      <td>ARREST, BOOKED</td>\n      <td>800 Block of BRYANT ST</td>\n      <td>-122.403405</td>\n      <td>37.775421</td>\n      <td>(37.775420706711, -122.403404791479)</td>\n      <td>12005827212168</td>\n    </tr>\n    <tr>\n      <th>2</th>\n      <td>141059263</td>\n      <td>WARRANTS</td>\n      <td>WARRANT ARREST</td>\n      <td>Monday</td>\n      <td>04/25/2016 12:00:00 AM</td>\n      <td>14:59</td>\n      <td>BAYVIEW</td>\n      <td>ARREST, BOOKED</td>\n      <td>KEITH ST / SHAFTER AV</td>\n      <td>-122.388856</td>\n      <td>37.729981</td>\n      <td>(37.7299809672996, -122.388856204292)</td>\n      <td>14105926363010</td>\n    </tr>\n    <tr>\n      <th>3</th>\n      <td>160013662</td>\n      <td>NON-CRIMINAL</td>\n      <td>LOST PROPERTY</td>\n      <td>Tuesday</td>\n      <td>01/05/2016 12:00:00 AM</td>\n      <td>23:50</td>\n      <td>TENDERLOIN</td>\n      <td>NONE</td>\n      <td>JONES ST / OFARRELL ST</td>\n      <td>-122.412971</td>\n      <td>37.785788</td>\n      <td>(37.7857883766888, -122.412970537591)</td>\n      <td>16001366271000</td>\n    </tr>\n    <tr>\n      <th>4</th>\n      <td>160002740</td>\n      <td>NON-CRIMINAL</td>\n      <td>LOST PROPERTY</td>\n      <td>Friday</td>\n      <td>01/01/2016 12:00:00 AM</td>\n      <td>00:30</td>\n      <td>MISSION</td>\n      <td>NONE</td>\n      <td>16TH ST / MISSION ST</td>\n      <td>-122.419672</td>\n      <td>37.765050</td>\n      <td>(37.7650501214668, -122.419671780296)</td>\n      <td>16000274071000</td>\n    </tr>\n  </tbody>\n</table>\n</div>",
                        "text/plain": "   IncidntNum      Category                                        Descript  \\\n0   120058272   WEAPON LAWS                       POSS OF PROHIBITED WEAPON   \n1   120058272   WEAPON LAWS  FIREARM, LOADED, IN VEHICLE, POSSESSION OR USE   \n2   141059263      WARRANTS                                  WARRANT ARREST   \n3   160013662  NON-CRIMINAL                                   LOST PROPERTY   \n4   160002740  NON-CRIMINAL                                   LOST PROPERTY   \n\n  DayOfWeek                    Date   Time  PdDistrict      Resolution  \\\n0    Friday  01/29/2016 12:00:00 AM  11:00    SOUTHERN  ARREST, BOOKED   \n1    Friday  01/29/2016 12:00:00 AM  11:00    SOUTHERN  ARREST, BOOKED   \n2    Monday  04/25/2016 12:00:00 AM  14:59     BAYVIEW  ARREST, BOOKED   \n3   Tuesday  01/05/2016 12:00:00 AM  23:50  TENDERLOIN            NONE   \n4    Friday  01/01/2016 12:00:00 AM  00:30     MISSION            NONE   \n\n                  Address           X          Y  \\\n0  800 Block of BRYANT ST -122.403405  37.775421   \n1  800 Block of BRYANT ST -122.403405  37.775421   \n2   KEITH ST / SHAFTER AV -122.388856  37.729981   \n3  JONES ST / OFARRELL ST -122.412971  37.785788   \n4    16TH ST / MISSION ST -122.419672  37.765050   \n\n                                Location            PdId  \n0   (37.775420706711, -122.403404791479)  12005827212120  \n1   (37.775420706711, -122.403404791479)  12005827212168  \n2  (37.7299809672996, -122.388856204292)  14105926363010  \n3  (37.7857883766888, -122.412970537591)  16001366271000  \n4  (37.7650501214668, -122.419671780296)  16000274071000  "
                    },
                    "execution_count": 14,
                    "metadata": {},
                    "output_type": "execute_result"
                }
            ],
            "source": "df_incidents.head()"
        },
        {
            "cell_type": "code",
            "execution_count": 15,
            "metadata": {},
            "outputs": [
                {
                    "data": {
                        "text/plain": "SOUTHERN      28445\nNORTHERN      20100\nMISSION       19503\nCENTRAL       17666\nBAYVIEW       14303\nINGLESIDE     11594\nTARAVAL       11325\nTENDERLOIN     9942\nRICHMOND       8922\nPARK           8699\nName: PdDistrict, dtype: int64"
                    },
                    "execution_count": 15,
                    "metadata": {},
                    "output_type": "execute_result"
                }
            ],
            "source": "df_incidents['PdDistrict'].value_counts()"
        },
        {
            "cell_type": "code",
            "execution_count": 18,
            "metadata": {},
            "outputs": [
                {
                    "data": {
                        "text/plain": "dict_keys(['BAYVIEW', 'CENTRAL', 'INGLESIDE', 'MISSION', 'NORTHERN', 'PARK', 'RICHMOND', 'SOUTHERN', 'TARAVAL', 'TENDERLOIN'])"
                    },
                    "execution_count": 18,
                    "metadata": {},
                    "output_type": "execute_result"
                }
            ],
            "source": "df_incidents.groupby(['PdDistrict']).groups.keys()"
        },
        {
            "cell_type": "code",
            "execution_count": 22,
            "metadata": {},
            "outputs": [],
            "source": "df_crime_nh = df_incidents.groupby('PdDistrict')['PdId'].count().reset_index()"
        },
        {
            "cell_type": "code",
            "execution_count": 24,
            "metadata": {},
            "outputs": [],
            "source": "df_crime_nh.rename(columns={'PdDistrict':'Neighborhood', 'PdId':'Count'}, inplace=True)"
        },
        {
            "cell_type": "code",
            "execution_count": 25,
            "metadata": {},
            "outputs": [
                {
                    "data": {
                        "text/html": "<div>\n<style scoped>\n    .dataframe tbody tr th:only-of-type {\n        vertical-align: middle;\n    }\n\n    .dataframe tbody tr th {\n        vertical-align: top;\n    }\n\n    .dataframe thead th {\n        text-align: right;\n    }\n</style>\n<table border=\"1\" class=\"dataframe\">\n  <thead>\n    <tr style=\"text-align: right;\">\n      <th></th>\n      <th>Neighborhood</th>\n      <th>Count</th>\n    </tr>\n  </thead>\n  <tbody>\n    <tr>\n      <th>0</th>\n      <td>BAYVIEW</td>\n      <td>14303</td>\n    </tr>\n    <tr>\n      <th>1</th>\n      <td>CENTRAL</td>\n      <td>17666</td>\n    </tr>\n    <tr>\n      <th>2</th>\n      <td>INGLESIDE</td>\n      <td>11594</td>\n    </tr>\n    <tr>\n      <th>3</th>\n      <td>MISSION</td>\n      <td>19503</td>\n    </tr>\n    <tr>\n      <th>4</th>\n      <td>NORTHERN</td>\n      <td>20100</td>\n    </tr>\n    <tr>\n      <th>5</th>\n      <td>PARK</td>\n      <td>8699</td>\n    </tr>\n    <tr>\n      <th>6</th>\n      <td>RICHMOND</td>\n      <td>8922</td>\n    </tr>\n    <tr>\n      <th>7</th>\n      <td>SOUTHERN</td>\n      <td>28445</td>\n    </tr>\n    <tr>\n      <th>8</th>\n      <td>TARAVAL</td>\n      <td>11325</td>\n    </tr>\n    <tr>\n      <th>9</th>\n      <td>TENDERLOIN</td>\n      <td>9942</td>\n    </tr>\n  </tbody>\n</table>\n</div>",
                        "text/plain": "  Neighborhood  Count\n0      BAYVIEW  14303\n1      CENTRAL  17666\n2    INGLESIDE  11594\n3      MISSION  19503\n4     NORTHERN  20100\n5         PARK   8699\n6     RICHMOND   8922\n7     SOUTHERN  28445\n8      TARAVAL  11325\n9   TENDERLOIN   9942"
                    },
                    "execution_count": 25,
                    "metadata": {},
                    "output_type": "execute_result"
                }
            ],
            "source": "df_crime_nh"
        },
        {
            "cell_type": "code",
            "execution_count": null,
            "metadata": {},
            "outputs": [],
            "source": "!conda install -c conda-forge folium=0.5.0 --yes\nimport folium\n\nprint('Folium installed and imported!')"
        },
        {
            "cell_type": "code",
            "execution_count": null,
            "metadata": {},
            "outputs": [],
            "source": "download the geojson file\n!wget --quiet https://cocl.us/sanfran_geojson -O sanfran_geo.json\n    \nprint('GeoJSON file downloaded!')"
        },
        {
            "cell_type": "code",
            "execution_count": null,
            "metadata": {},
            "outputs": [],
            "source": "sf_geo = r'sanfran_geo.json' # geojson file\n\n# San Francisco latitude and longitude values\nlatitude = 37.77\nlongitude = -122.42\n\n# create a plain world map\nsanfran_map = folium.Map(location=[latitude, longitude], zoom_start=12)\n\n# generate choropleth map\nsanfran_map.choropleth(\n    geo_data=sf_geo,\n    data=df_crime_nh,\n    columns=['Neighborhood', 'Count'],\n    key_on='feature.properties.DISTRICT',\n    fill_color='YlOrRd', \n    fill_opacity=0.7, \n    line_opacity=0.2,\n    legend_name='Crime Rate in San Fransisco'\n)\n\n# display map\nsanfran_map"
        },
        {
            "cell_type": "code",
            "execution_count": null,
            "metadata": {},
            "outputs": [],
            "source": ""
        }
    ],
    "metadata": {
        "kernelspec": {
            "display_name": "Python 3.6",
            "language": "python",
            "name": "python3"
        },
        "language_info": {
            "codemirror_mode": {
                "name": "ipython",
                "version": 3
            },
            "file_extension": ".py",
            "mimetype": "text/x-python",
            "name": "python",
            "nbconvert_exporter": "python",
            "pygments_lexer": "ipython3",
            "version": "3.6.9"
        }
    },
    "nbformat": 4,
    "nbformat_minor": 1
}